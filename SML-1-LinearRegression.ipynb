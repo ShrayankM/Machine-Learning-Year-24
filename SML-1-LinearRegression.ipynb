{
  "nbformat": 4,
  "nbformat_minor": 0,
  "metadata": {
    "colab": {
      "provenance": []
    },
    "kernelspec": {
      "name": "python3",
      "display_name": "Python 3"
    },
    "language_info": {
      "name": "python"
    }
  },
  "cells": [
    {
      "cell_type": "markdown",
      "source": [
        "# Packages"
      ],
      "metadata": {
        "id": "wdK-_tl_Umsh"
      }
    },
    {
      "cell_type": "code",
      "source": [
        "import numpy as np\n",
        "import pandas as pd\n",
        "import matplotlib.pyplot as plt\n",
        "\n",
        "from sklearn.model_selection import train_test_split"
      ],
      "metadata": {
        "id": "SAa8n9-SUmXi"
      },
      "execution_count": 214,
      "outputs": []
    },
    {
      "cell_type": "markdown",
      "source": [
        "# Dataset"
      ],
      "metadata": {
        "id": "UhdBKGvJUIrm"
      }
    },
    {
      "cell_type": "code",
      "source": [
        "from google.colab import files\n",
        "\n",
        "uploaded = files.upload()"
      ],
      "metadata": {
        "id": "sm4EdBzVSCxc",
        "colab": {
          "base_uri": "https://localhost:8080/",
          "height": 73
        },
        "outputId": "902eefa3-e7f6-44a5-eaf4-75ab8c0c4533"
      },
      "execution_count": 47,
      "outputs": [
        {
          "output_type": "display_data",
          "data": {
            "text/plain": [
              "<IPython.core.display.HTML object>"
            ],
            "text/html": [
              "\n",
              "     <input type=\"file\" id=\"files-2c83e38b-68d7-41f0-80a5-55747d1d646c\" name=\"files[]\" multiple disabled\n",
              "        style=\"border:none\" />\n",
              "     <output id=\"result-2c83e38b-68d7-41f0-80a5-55747d1d646c\">\n",
              "      Upload widget is only available when the cell has been executed in the\n",
              "      current browser session. Please rerun this cell to enable.\n",
              "      </output>\n",
              "      <script>// Copyright 2017 Google LLC\n",
              "//\n",
              "// Licensed under the Apache License, Version 2.0 (the \"License\");\n",
              "// you may not use this file except in compliance with the License.\n",
              "// You may obtain a copy of the License at\n",
              "//\n",
              "//      http://www.apache.org/licenses/LICENSE-2.0\n",
              "//\n",
              "// Unless required by applicable law or agreed to in writing, software\n",
              "// distributed under the License is distributed on an \"AS IS\" BASIS,\n",
              "// WITHOUT WARRANTIES OR CONDITIONS OF ANY KIND, either express or implied.\n",
              "// See the License for the specific language governing permissions and\n",
              "// limitations under the License.\n",
              "\n",
              "/**\n",
              " * @fileoverview Helpers for google.colab Python module.\n",
              " */\n",
              "(function(scope) {\n",
              "function span(text, styleAttributes = {}) {\n",
              "  const element = document.createElement('span');\n",
              "  element.textContent = text;\n",
              "  for (const key of Object.keys(styleAttributes)) {\n",
              "    element.style[key] = styleAttributes[key];\n",
              "  }\n",
              "  return element;\n",
              "}\n",
              "\n",
              "// Max number of bytes which will be uploaded at a time.\n",
              "const MAX_PAYLOAD_SIZE = 100 * 1024;\n",
              "\n",
              "function _uploadFiles(inputId, outputId) {\n",
              "  const steps = uploadFilesStep(inputId, outputId);\n",
              "  const outputElement = document.getElementById(outputId);\n",
              "  // Cache steps on the outputElement to make it available for the next call\n",
              "  // to uploadFilesContinue from Python.\n",
              "  outputElement.steps = steps;\n",
              "\n",
              "  return _uploadFilesContinue(outputId);\n",
              "}\n",
              "\n",
              "// This is roughly an async generator (not supported in the browser yet),\n",
              "// where there are multiple asynchronous steps and the Python side is going\n",
              "// to poll for completion of each step.\n",
              "// This uses a Promise to block the python side on completion of each step,\n",
              "// then passes the result of the previous step as the input to the next step.\n",
              "function _uploadFilesContinue(outputId) {\n",
              "  const outputElement = document.getElementById(outputId);\n",
              "  const steps = outputElement.steps;\n",
              "\n",
              "  const next = steps.next(outputElement.lastPromiseValue);\n",
              "  return Promise.resolve(next.value.promise).then((value) => {\n",
              "    // Cache the last promise value to make it available to the next\n",
              "    // step of the generator.\n",
              "    outputElement.lastPromiseValue = value;\n",
              "    return next.value.response;\n",
              "  });\n",
              "}\n",
              "\n",
              "/**\n",
              " * Generator function which is called between each async step of the upload\n",
              " * process.\n",
              " * @param {string} inputId Element ID of the input file picker element.\n",
              " * @param {string} outputId Element ID of the output display.\n",
              " * @return {!Iterable<!Object>} Iterable of next steps.\n",
              " */\n",
              "function* uploadFilesStep(inputId, outputId) {\n",
              "  const inputElement = document.getElementById(inputId);\n",
              "  inputElement.disabled = false;\n",
              "\n",
              "  const outputElement = document.getElementById(outputId);\n",
              "  outputElement.innerHTML = '';\n",
              "\n",
              "  const pickedPromise = new Promise((resolve) => {\n",
              "    inputElement.addEventListener('change', (e) => {\n",
              "      resolve(e.target.files);\n",
              "    });\n",
              "  });\n",
              "\n",
              "  const cancel = document.createElement('button');\n",
              "  inputElement.parentElement.appendChild(cancel);\n",
              "  cancel.textContent = 'Cancel upload';\n",
              "  const cancelPromise = new Promise((resolve) => {\n",
              "    cancel.onclick = () => {\n",
              "      resolve(null);\n",
              "    };\n",
              "  });\n",
              "\n",
              "  // Wait for the user to pick the files.\n",
              "  const files = yield {\n",
              "    promise: Promise.race([pickedPromise, cancelPromise]),\n",
              "    response: {\n",
              "      action: 'starting',\n",
              "    }\n",
              "  };\n",
              "\n",
              "  cancel.remove();\n",
              "\n",
              "  // Disable the input element since further picks are not allowed.\n",
              "  inputElement.disabled = true;\n",
              "\n",
              "  if (!files) {\n",
              "    return {\n",
              "      response: {\n",
              "        action: 'complete',\n",
              "      }\n",
              "    };\n",
              "  }\n",
              "\n",
              "  for (const file of files) {\n",
              "    const li = document.createElement('li');\n",
              "    li.append(span(file.name, {fontWeight: 'bold'}));\n",
              "    li.append(span(\n",
              "        `(${file.type || 'n/a'}) - ${file.size} bytes, ` +\n",
              "        `last modified: ${\n",
              "            file.lastModifiedDate ? file.lastModifiedDate.toLocaleDateString() :\n",
              "                                    'n/a'} - `));\n",
              "    const percent = span('0% done');\n",
              "    li.appendChild(percent);\n",
              "\n",
              "    outputElement.appendChild(li);\n",
              "\n",
              "    const fileDataPromise = new Promise((resolve) => {\n",
              "      const reader = new FileReader();\n",
              "      reader.onload = (e) => {\n",
              "        resolve(e.target.result);\n",
              "      };\n",
              "      reader.readAsArrayBuffer(file);\n",
              "    });\n",
              "    // Wait for the data to be ready.\n",
              "    let fileData = yield {\n",
              "      promise: fileDataPromise,\n",
              "      response: {\n",
              "        action: 'continue',\n",
              "      }\n",
              "    };\n",
              "\n",
              "    // Use a chunked sending to avoid message size limits. See b/62115660.\n",
              "    let position = 0;\n",
              "    do {\n",
              "      const length = Math.min(fileData.byteLength - position, MAX_PAYLOAD_SIZE);\n",
              "      const chunk = new Uint8Array(fileData, position, length);\n",
              "      position += length;\n",
              "\n",
              "      const base64 = btoa(String.fromCharCode.apply(null, chunk));\n",
              "      yield {\n",
              "        response: {\n",
              "          action: 'append',\n",
              "          file: file.name,\n",
              "          data: base64,\n",
              "        },\n",
              "      };\n",
              "\n",
              "      let percentDone = fileData.byteLength === 0 ?\n",
              "          100 :\n",
              "          Math.round((position / fileData.byteLength) * 100);\n",
              "      percent.textContent = `${percentDone}% done`;\n",
              "\n",
              "    } while (position < fileData.byteLength);\n",
              "  }\n",
              "\n",
              "  // All done.\n",
              "  yield {\n",
              "    response: {\n",
              "      action: 'complete',\n",
              "    }\n",
              "  };\n",
              "}\n",
              "\n",
              "scope.google = scope.google || {};\n",
              "scope.google.colab = scope.google.colab || {};\n",
              "scope.google.colab._files = {\n",
              "  _uploadFiles,\n",
              "  _uploadFilesContinue,\n",
              "};\n",
              "})(self);\n",
              "</script> "
            ]
          },
          "metadata": {}
        },
        {
          "output_type": "stream",
          "name": "stdout",
          "text": [
            "Saving kaggle.json to kaggle (1).json\n"
          ]
        }
      ]
    },
    {
      "cell_type": "code",
      "source": [
        "!pip install kaggle"
      ],
      "metadata": {
        "colab": {
          "base_uri": "https://localhost:8080/"
        },
        "id": "uG5P-PHOTzbR",
        "outputId": "bb1f0bcf-b372-4596-861d-8a779c877c14"
      },
      "execution_count": 48,
      "outputs": [
        {
          "output_type": "stream",
          "name": "stdout",
          "text": [
            "Requirement already satisfied: kaggle in /usr/local/lib/python3.10/dist-packages (1.5.16)\n",
            "Requirement already satisfied: six>=1.10 in /usr/local/lib/python3.10/dist-packages (from kaggle) (1.16.0)\n",
            "Requirement already satisfied: certifi in /usr/local/lib/python3.10/dist-packages (from kaggle) (2023.11.17)\n",
            "Requirement already satisfied: python-dateutil in /usr/local/lib/python3.10/dist-packages (from kaggle) (2.8.2)\n",
            "Requirement already satisfied: requests in /usr/local/lib/python3.10/dist-packages (from kaggle) (2.31.0)\n",
            "Requirement already satisfied: tqdm in /usr/local/lib/python3.10/dist-packages (from kaggle) (4.66.1)\n",
            "Requirement already satisfied: python-slugify in /usr/local/lib/python3.10/dist-packages (from kaggle) (8.0.1)\n",
            "Requirement already satisfied: urllib3 in /usr/local/lib/python3.10/dist-packages (from kaggle) (2.0.7)\n",
            "Requirement already satisfied: bleach in /usr/local/lib/python3.10/dist-packages (from kaggle) (6.1.0)\n",
            "Requirement already satisfied: webencodings in /usr/local/lib/python3.10/dist-packages (from bleach->kaggle) (0.5.1)\n",
            "Requirement already satisfied: text-unidecode>=1.3 in /usr/local/lib/python3.10/dist-packages (from python-slugify->kaggle) (1.3)\n",
            "Requirement already satisfied: charset-normalizer<4,>=2 in /usr/local/lib/python3.10/dist-packages (from requests->kaggle) (3.3.2)\n",
            "Requirement already satisfied: idna<4,>=2.5 in /usr/local/lib/python3.10/dist-packages (from requests->kaggle) (3.6)\n"
          ]
        }
      ]
    },
    {
      "cell_type": "code",
      "source": [
        "!mkdir -p ~/.kaggle\n",
        "!cp kaggle.json ~/.kaggle/\n",
        "!chmod 600 ~/.kaggle/kaggle.json"
      ],
      "metadata": {
        "id": "yMOhZKGIT4Or"
      },
      "execution_count": 49,
      "outputs": []
    },
    {
      "cell_type": "code",
      "source": [
        "!kaggle datasets download -d karanchinchpure/house-price-predict-in-mumbai-city"
      ],
      "metadata": {
        "colab": {
          "base_uri": "https://localhost:8080/"
        },
        "id": "qa4ceKcnT7AI",
        "outputId": "7990413b-482e-4664-c5e8-a467b161d973"
      },
      "execution_count": 50,
      "outputs": [
        {
          "output_type": "stream",
          "name": "stdout",
          "text": [
            "house-price-predict-in-mumbai-city.zip: Skipping, found more recently modified local copy (use --force to force download)\n"
          ]
        }
      ]
    },
    {
      "cell_type": "code",
      "source": [
        "!unzip house-price-predict-in-mumbai-city.zip"
      ],
      "metadata": {
        "colab": {
          "base_uri": "https://localhost:8080/"
        },
        "id": "lxgPMtqsT_Np",
        "outputId": "f230339d-0225-4a0e-b732-b6f2c0daf7c2"
      },
      "execution_count": 51,
      "outputs": [
        {
          "output_type": "stream",
          "name": "stdout",
          "text": [
            "Archive:  house-price-predict-in-mumbai-city.zip\n",
            "replace house_price_mumbai.csv? [y]es, [n]o, [A]ll, [N]one, [r]ename: y\n",
            "  inflating: house_price_mumbai.csv  \n"
          ]
        }
      ]
    },
    {
      "cell_type": "markdown",
      "source": [
        "# Standardising Data"
      ],
      "metadata": {
        "id": "9J0Qze2UWzsb"
      }
    },
    {
      "cell_type": "code",
      "source": [
        "filename = '/content/house_price_mumbai.csv'\n",
        "data = pd.read_csv(filename)"
      ],
      "metadata": {
        "id": "3EDUdN5EUF9h"
      },
      "execution_count": 170,
      "outputs": []
    },
    {
      "cell_type": "code",
      "source": [
        "print(f\" \\t House attributes = {data.columns.values}, \\n \\t No. of house records = {data.shape[0]}, \\n \\t Shape of Data = {data.shape}\")"
      ],
      "metadata": {
        "colab": {
          "base_uri": "https://localhost:8080/"
        },
        "id": "mtIk2ZmoUrgy",
        "outputId": "a987f42d-73c3-4b24-a825-733b599c67a3"
      },
      "execution_count": 171,
      "outputs": [
        {
          "output_type": "stream",
          "name": "stdout",
          "text": [
            " \t House attributes = ['BHK' 'project' 'Location' 'City' 'Total sqft' 'price_sqft' 'price'], \n",
            " \t No. of house records = 3980, \n",
            " \t Shape of Data = (3980, 7)\n"
          ]
        }
      ]
    },
    {
      "cell_type": "markdown",
      "source": [
        "### Dropping redundunt columns (project, Location, City)"
      ],
      "metadata": {
        "id": "Euqf51cVbkEY"
      }
    },
    {
      "cell_type": "code",
      "source": [
        "drop_attributes = ['project', 'Location', 'City']\n",
        "data.drop(drop_attributes, axis = 1, inplace = True)"
      ],
      "metadata": {
        "id": "LBqnLgAebXrN"
      },
      "execution_count": 172,
      "outputs": []
    },
    {
      "cell_type": "markdown",
      "source": [
        "### Converting price to Integer values"
      ],
      "metadata": {
        "id": "PN4btx1VXKGu"
      }
    },
    {
      "cell_type": "code",
      "source": [
        "def updatePrice(price):\n",
        "  price_sep = price.split(' ')\n",
        "  denomination = price_sep[1]\n",
        "  price_value = float(price_sep[0])\n",
        "\n",
        "  if (denomination == 'Cr'):\n",
        "    price_value = price_value * 1_00_00_000\n",
        "  elif (denomination == 'L'):\n",
        "    price_value = price_value * 1_00_000\n",
        "\n",
        "  return price_value"
      ],
      "metadata": {
        "id": "IOEJTfUYYU5F"
      },
      "execution_count": 173,
      "outputs": []
    },
    {
      "cell_type": "code",
      "source": [
        "attribute_name = 'price'\n",
        "data[attribute_name] = data[attribute_name].apply(lambda value : updatePrice(value))"
      ],
      "metadata": {
        "id": "wh-CWOHxXRrF"
      },
      "execution_count": 174,
      "outputs": []
    },
    {
      "cell_type": "markdown",
      "source": [
        "### Converting priceSqft to integer values"
      ],
      "metadata": {
        "id": "FCisiEdXbcBN"
      }
    },
    {
      "cell_type": "code",
      "source": [
        "def updatePriceSqft(priceSqft):\n",
        "  return int(priceSqft.replace(',', ''))"
      ],
      "metadata": {
        "id": "spraC1eNa3CX"
      },
      "execution_count": 175,
      "outputs": []
    },
    {
      "cell_type": "code",
      "source": [
        "attribute_name = 'price_sqft'\n",
        "data[attribute_name] = data[attribute_name].apply(lambda value : updatePriceSqft(value))"
      ],
      "metadata": {
        "id": "YFB4JxrZalI6"
      },
      "execution_count": 176,
      "outputs": []
    },
    {
      "cell_type": "markdown",
      "source": [
        "### Converting BHK to numbers"
      ],
      "metadata": {
        "id": "euLmiYfqcl-3"
      }
    },
    {
      "cell_type": "code",
      "source": [
        "def updateBHKInfo(bhk):\n",
        "  if (bhk.split(' ')[0] == 'R'):\n",
        "    return 1\n",
        "  return int(bhk.split(' ')[0])"
      ],
      "metadata": {
        "id": "eNc-efJRcptu"
      },
      "execution_count": 177,
      "outputs": []
    },
    {
      "cell_type": "code",
      "source": [
        "attribute_name = 'BHK'\n",
        "data[attribute_name] = data[attribute_name].apply(lambda value : updateBHKInfo(value))"
      ],
      "metadata": {
        "id": "SwZbw3rjcxwU"
      },
      "execution_count": 178,
      "outputs": []
    },
    {
      "cell_type": "code",
      "source": [
        "data.info()"
      ],
      "metadata": {
        "colab": {
          "base_uri": "https://localhost:8080/"
        },
        "id": "N2LDH7HAW8rT",
        "outputId": "c85e6c0b-277c-423d-921d-7f19d1607d83"
      },
      "execution_count": 179,
      "outputs": [
        {
          "output_type": "stream",
          "name": "stdout",
          "text": [
            "<class 'pandas.core.frame.DataFrame'>\n",
            "RangeIndex: 3980 entries, 0 to 3979\n",
            "Data columns (total 4 columns):\n",
            " #   Column      Non-Null Count  Dtype  \n",
            "---  ------      --------------  -----  \n",
            " 0   BHK         3980 non-null   int64  \n",
            " 1   Total sqft  3980 non-null   int64  \n",
            " 2   price_sqft  3980 non-null   int64  \n",
            " 3   price       3980 non-null   float64\n",
            "dtypes: float64(1), int64(3)\n",
            "memory usage: 124.5 KB\n"
          ]
        }
      ]
    },
    {
      "cell_type": "markdown",
      "source": [
        "# Visual Representation for 2, 3, 4 BHK Houses"
      ],
      "metadata": {
        "id": "ezmwTg7SUc1T"
      }
    },
    {
      "cell_type": "code",
      "source": [
        "attribute_name, x_axis, y_axis = 'BHK', 'Total sqft', 'price'"
      ],
      "metadata": {
        "id": "HH2ERsyfV3Am"
      },
      "execution_count": 186,
      "outputs": []
    },
    {
      "cell_type": "code",
      "source": [
        "attribute_name, x_axis, y_axis = 'BHK', 'Total sqft', 'price'\n",
        "\n",
        "bhk_uniques = data[attribute_name].unique()\n",
        "bhk_uniques.sort()\n",
        "bhk_uniques = bhk_uniques[1:4]\n",
        "\n",
        "fig, axes = plt.subplots(nrows=1, ncols=len(bhk_uniques), figsize=(15, 5), sharey=True)\n",
        "\n",
        "for i, u_bhk in enumerate(bhk_uniques):\n",
        "    indexes = data[data[attribute_name] == u_bhk].index\n",
        "    axes[i].scatter(data[data.index.isin(indexes)][x_axis], data[data.index.isin(indexes)][y_axis])\n",
        "    axes[i].set_title(f\"{u_bhk} BHK houses prices\")\n",
        "    axes[i].set_xlabel(\"Total Square Feet\")\n",
        "    axes[i].set_ylabel(\"Price in Crs\")\n",
        "\n",
        "    axes[i].tick_params(axis = 'x', rotation = 45)\n",
        "\n",
        "plt.tight_layout()\n",
        "plt.show()"
      ],
      "metadata": {
        "colab": {
          "base_uri": "https://localhost:8080/",
          "height": 507
        },
        "id": "6oVFCJGuiKp7",
        "outputId": "30e9774c-154d-40be-8a2c-ab54d4aa2df3"
      },
      "execution_count": 210,
      "outputs": [
        {
          "output_type": "display_data",
          "data": {
            "text/plain": [
              "<Figure size 1500x500 with 3 Axes>"
            ],
            "image/png": "[encoded data removed]"
          },
          "metadata": {}
        }
      ]
    },
    {
      "cell_type": "markdown",
      "source": [
        "# Train Test split data"
      ],
      "metadata": {
        "id": "DyPW2xh-pbeF"
      }
    },
    {
      "cell_type": "code",
      "source": [
        "x_attributes, y_attributes = ['BHK', 'Total sqft', 'price_sqft'], ['price']\n",
        "x_train, y_train, x_test, y_test = train_test_split(data[x_attributes], data[y_attributes], test_size = 0.03, random_state = 1234)\n",
        "\n",
        "print(f\"Data stats: \\n Training data size [ x = {x_train.shape}, y = {y_train.shape} ] \\n Testing data size [ x = {x_test.shape}, y  = {y_test.shape} ] \\n\")"
      ],
      "metadata": {
        "colab": {
          "base_uri": "https://localhost:8080/"
        },
        "id": "-k2IwmnupbCB",
        "outputId": "e23e447a-2a63-4fa2-ee23-2744477237be"
      },
      "execution_count": 222,
      "outputs": [
        {
          "output_type": "stream",
          "name": "stdout",
          "text": [
            "Data stats: \n",
            " Training data size [ x = (3860, 3), y = (120, 3) ] \n",
            " Testing data size [ x = (3860, 1), y  = (120, 1) ] \n",
            "\n"
          ]
        }
      ]
    },
    {
      "cell_type": "markdown",
      "source": [
        "# Simple Linear Regression\n",
        "<p>  $$ f_{w,b}(x^{(i)}) = wx^{(i)} + b \\tag{1}$$ </p>"
      ],
      "metadata": {
        "id": "K_6ez_z6oyNl"
      }
    }
  ]
}